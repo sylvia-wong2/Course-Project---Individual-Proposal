{
 "cells": [
  {
   "attachments": {},
   "cell_type": "markdown",
   "id": "de45da16",
   "metadata": {},
   "source": [
    "<h1><center>Course Project: Individual Proposal</center></h1>\n",
    "<h3><center>Sylvia Wong (1010888540)</center></h3>\n",
    "\n",
    "**Prompt**: This project investigates the importance of social connection for well-being.\n",
    "\n",
    "### Analysis 1\n",
    "\n",
    "**Research Question**: In analysis 1, the research question is “Does the number of acquaintance interactions, which measures social connection, impact life satisfaction, which measures well-being?” This analysis investigates the association between these variables. The population parameter measured is the slope of the theoretical model (β1).\n",
    "\n",
    "**Variables**: The following variables from the 2022_cross data are investigated: The number of acquaintance interactions (CONNECTION_social_num_acquaintances) and life satisfaction from 1 to 10 (WELLNESS_life_satisfaction). These variables are chosen since the number of acquaintance interactions shows social connection and life satisfaction represents well-being. A *scatter plot* will be used to show the relationship between the two variables by fitting a trendline to the data through simple linear regression. A *histogram* of β^1 (fitted slope coefficient) for each bootstrapped sample will be created to show the distribution of this statistic.\n",
    "\n",
    "**Analysis**: \n",
    "- *Null hypothesis*: The null hypothesis in this analysis is that there is no correlation between the number of acquaintance interactions and the level of life satisfaction (β1= 0).\n",
    "- *Simple Linear Regression*: Simple linear regression will be used to fit a trendline to each bootstrapped sample and to determine β^1. We assume the error terms are normally distributed, homoscedastic, and independent of each other, and the data is linear.\n",
    "- *Confidence Intervals and Bootstrapping*: The data will be bootstrapped and for each bootstrapped sample, a linear regression will be performed to obtain the statistic β^1. Each β^1 will be plotted in a histogram and a confidence interval will be constructed to provide a range of plausible values for β1 and to provide evidence regarding the null hypothesis.\n",
    "\n",
    "**Possible Results**: In this analysis, it is hypothesized that there will be a positive correlation between social interactions and life satisfaction. This result addresses the research question as a positive correlation indicates that as social interactions increase, life satisfaction also increases. While this may not be a causation, a relationship between the variables can be established.\n",
    "\n",
    "### Analysis 2\n",
    "\n",
    "**Research Question**: In analysis 2, the research question is “Does the amount of time we spend working, which can impact social connection, affect how happy we feel, an indicator of well-being?” The association between time spent working and happiness is investigated.\n",
    "\n",
    "**Variables**: The following variables from the 2021_cross data are investigated: whether too little, just the right amount, or too much time is spent working (LIFESTYLE_time_use_balance_working) and happiness level from 1 to 10 (WELLNESS_subjective_happiness_scale_happy). These variables can show possible relations between social connection and well-being. It is thought that work decreases social interactions, which thus affects happiness, an indicator of well-being. Three *bar plots* will be created of the happiness of those who work too little, just the right amount, and too much. These bar plots show the general distribution how happy people feel for each category. *Box plots* will be created for comparing these three categories.\n",
    "\n",
    "**Analysis**: Assume A represents those who work too little, B represents those who work the right amount, and C represents those who work too much. \n",
    "- *Sample statistic*: The sample statistic is the difference between the means of the happiness levels from two groups which shows how happiness differs across the groups.\n",
    "- *Null Hypothesis*: The difference between the means of each pair of groups is 0 meaning there is no difference in the happiness levels across all 3 groups beyond random chance. \n",
    "- *Bootstrapping*: The data is bootstrapped by repeatedly resampling with replacement from each of two groups and calculating the difference between the means. A 95% confidence interval will be constructed to provide a range of plausible differences in means. This process is repeated three times to compare A and B, B and C, and A and C. Each confidence interval is used to determine whether each pair of groups differ and to infer how they differ.\n",
    "\n",
    "**Possible Results**: In this analysis, it is hypothesized that as work increases, happiness decreases since work could decrease social interaction and therefore happiness. These results are relevant in answering the research question since it can show a relationship between work and happiness. Note, however, that the differences in the groups do not necessarily show causation.\n",
    "\n",
    "### Analysis 3\n",
    "\n",
    "**Research Question**: The following research question is investigated: Does loneliness, which indicates lack of social connection, impact self-esteem, which represents mental health? The association between loneliness and self-esteem is investigated.\n",
    "\n",
    "**Variables**: The following variables from the 2021_cross data are investigated: whether people feel lonely (LONELY_dejong_emotional_social_loneliness_scale_emptiness) and their self-esteem on a scale from 1 to 10 (PSYCH_self_esteem_unknown_scale_high). These variables are chosen as they can show the relations between loneliness (lack of social connection) and self-esteem (well-being). Two *bar plots* will be created of the self-esteem of people who are lonely and those who are not. Two *box plots* will also be created to compare the two groups.\n",
    "\n",
    "**Analysis**: The following two groups are analyzed: Those who feel lonely and those who do not.\n",
    "- *Null hypothesis*: The null hypothesis in this experiment is that there is no difference in the self-esteem levels of two groups beyond random chance meaning difference in means is 0.\n",
    "- *Bootstrapping*: Bootstrapping will be performed by repeatedly resampling with replacement from each group, calculating the sample statistic, and constructing the 95% confidence interval. This confidence interval provides a range of plausible differences in means that can be used to determine whether the groups differ and to infer how the groups differ.\n",
    "\n",
    "**Possible Results**: It is hypothesized that those who are lonely should have lower self-esteem as a lack of social interaction likely results in low confidence. This addresses the research question as a difference in self-esteem level of the two groups establishes a relationship between the variables.\n",
    "\n",
    "**Group Proposal**: I would like to be in a group with Isabel Melo, Gloria Yao, and Olivia Qi. Thanks!"
   ]
  }
 ],
 "metadata": {
  "kernelspec": {
   "display_name": "Python 3 (ipykernel)",
   "language": "python",
   "name": "python3"
  },
  "language_info": {
   "codemirror_mode": {
    "name": "ipython",
    "version": 3
   },
   "file_extension": ".py",
   "mimetype": "text/x-python",
   "name": "python",
   "nbconvert_exporter": "python",
   "pygments_lexer": "ipython3",
   "version": "3.11.6"
  }
 },
 "nbformat": 4,
 "nbformat_minor": 5
}
